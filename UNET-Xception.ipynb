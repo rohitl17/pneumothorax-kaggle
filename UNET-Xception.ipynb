{
 "cells": [
  {
   "cell_type": "code",
   "execution_count": null,
   "metadata": {
    "colab": {
     "base_uri": "https://localhost:8080/",
     "height": 34
    },
    "colab_type": "code",
    "executionInfo": {
     "elapsed": 5619,
     "status": "ok",
     "timestamp": 1566476841080,
     "user": {
      "displayName": "Rohit Lokwani",
      "photoUrl": "https://lh3.googleusercontent.com/a-/AAuE7mAL3EwFAVjTZK-H4qLCb2CDpH3othjZNTAEAuLEnPk=s64",
      "userId": "14529381634196967404"
     },
     "user_tz": -330
    },
    "id": "m1pOeTKmdDhX",
    "outputId": "6805e7d2-217f-495e-ea23-fb12a9232df5"
   },
   "outputs": [],
   "source": [
    "import numpy as np\n",
    "import pandas as pd\n",
    "import pickle\n",
    "import matplotlib.pyplot as plt\n",
    "from keras.layers import Flatten, Dense, GlobalAveragePooling2D,Dropout,Conv2D\n",
    "from keras.applications.densenet import DenseNet169, DenseNet121\n",
    "from keras.applications.xception import Xception\n",
    "from keras.models import Model\n",
    "import keras.backend as K\n",
    "from sklearn.metrics import roc_auc_score, cohen_kappa_score\n",
    "import cv2\n",
    "import os\n",
    "import random\n",
    "from sklearn.utils import shuffle\n",
    "from keras.applications.mobilenetv2 import MobileNetV2\n",
    "from keras.callbacks import Callback,ModelCheckpoint\n",
    "from keras.models import *\n",
    "from keras.layers import *\n",
    "from keras.optimizers import *\n",
    "from keras.losses import binary_crossentropy\n",
    "from keras.utils import Sequence\n",
    "from keras import backend as keras\n",
    "from keras.preprocessing.image import ImageDataGenerator\n",
    "from glob import glob\n",
    "from tqdm import tqdm\n",
    "import csv\n",
    "import math\n",
    "from keras.callbacks import LearningRateScheduler\n",
    "from keras.layers import BatchNormalization as bn\n",
    "%matplotlib inline"
   ]
  },
  {
   "cell_type": "code",
   "execution_count": null,
   "metadata": {
    "cellView": "form",
    "colab": {},
    "colab_type": "code",
    "id": "6jjRqkbpdDhx"
   },
   "outputs": [],
   "source": [
    "#@title Unnecessary callbacks\n",
    "from keras.callbacks import Callback\n",
    "from sklearn.metrics import confusion_matrix, f1_score, precision_score, recall_score\n",
    "\n",
    "class Metrics(Callback):\n",
    "    def on_train_begin(self, logs={}):\n",
    "     self.val_f1s = []\n",
    "     self.val_recalls = []\n",
    "     self.val_precisions = []\n",
    "\n",
    "    def on_epoch_end(self, epoch, logs={}):\n",
    "     val_predict = (np.asarray(self.model.predict(X_test_feats))).round()\n",
    "     val_targ = Y_test\n",
    "#      print(val_targ.shape)   \n",
    "#      print(val_targ)\n",
    "#      print(val_predict.shape)   \n",
    "#      print(val_predict)   \n",
    "     targ = []\n",
    "     pred = []\n",
    "     for x in val_targ:\n",
    "        targ.append(np.argmax(x))\n",
    "     for x in val_predict:\n",
    "        pred.append(np.argmax(x))\n",
    "#      print(targ)\n",
    "#      print(pred)\n",
    "        \n",
    "     _val_f1 = f1_score(targ, pred)\n",
    "     \n",
    "     _val_recall = recall_score(targ, pred)\n",
    "     _val_precision = precision_score(targ, pred)\n",
    "     self.val_f1s.append(_val_f1)\n",
    "     self.val_recalls.append(_val_recall)\n",
    "     self.val_precisions.append(_val_precision)\n",
    "     print(\"— val_f1: {0} — val_precision: {1} — val_recall {2} \".format(_val_f1, _val_precision, _val_recall))\n",
    "     return\n",
    "\n",
    "metrics = Metrics()"
   ]
  },
  {
   "cell_type": "code",
   "execution_count": null,
   "metadata": {
    "cellView": "form",
    "colab": {},
    "colab_type": "code",
    "id": "8gwMK0P-dDiI"
   },
   "outputs": [],
   "source": [
    "#@title Good to have callbacks\n",
    "from sklearn.metrics import roc_auc_score\n",
    "from keras.callbacks import Callback\n",
    "class roc_callback(Callback):\n",
    "    def __init__(self,validation_data):\n",
    "#         self.x = training_data[0]\n",
    "#         self.y = training_data[1]\n",
    "        self.x_val = validation_data[0]\n",
    "        self.y_val = validation_data[1]\n",
    "\n",
    "\n",
    "    def on_train_begin(self, logs={}):\n",
    "        return\n",
    "\n",
    "    def on_train_end(self, logs={}):\n",
    "        return\n",
    "\n",
    "    def on_epoch_begin(self, epoch, logs={}):\n",
    "        return\n",
    "\n",
    "    def on_epoch_end(self, epoch, logs={}):\n",
    "#         y_pred = self.model.predict(self.x)\n",
    "#         roc = roc_auc_score(self.y, y_pred)\n",
    "        if(epoch%1==0):\n",
    "            print(\"Calc Roc\")\n",
    "            all_rocs = []\n",
    "            y_pred_val = self.model.predict(X_test,verbose=1)\n",
    "            #print (\"Intitial y_pred:{0}\".format(y_pred_val))\n",
    "            for d in range(2):\n",
    "                try:\n",
    "                    roc_val = roc_auc_score(Y_test[:,d], y_pred_val[:,d])\n",
    "                    all_rocs.append(roc_val)\n",
    "                except:\n",
    "                    pass\n",
    "            all_rocs = np.array(all_rocs)\n",
    "            mean_roc = np.mean(all_rocs)\n",
    "            \n",
    "            Y_test_kappa=[np.argmax(i) for i in Y_test]\n",
    "            y_pred_kappa=[np.argmax(i) for i in y_pred_val]\n",
    "            try:\n",
    "                score = f1_score(Y_test_kappa, np.around(y_pred_kappa))\n",
    "                f1s = score\n",
    "            except:\n",
    "                    print(global_cls[d])\n",
    "            avg_f1 = f1s\n",
    "            \n",
    "            kappa_score = cohen_kappa_score(Y_test_kappa, y_pred_kappa)            \n",
    "            \n",
    "            print(\"ROC VAL {0}\".format(mean_roc))\n",
    "            print(\"F1 {0}\".format(avg_f1))\n",
    "            print(\"KAPPA {0}\".format(kappa_score))\n",
    "        return\n",
    "\n",
    "    def on_batch_begin(self, batch, logs={}):\n",
    "        return\n",
    "\n",
    "    def on_batch_end(self, batch, logs={}):\n",
    "        return"
   ]
  },
  {
   "cell_type": "code",
   "execution_count": null,
   "metadata": {
    "colab": {
     "base_uri": "https://localhost:8080/",
     "height": 122
    },
    "colab_type": "code",
    "executionInfo": {
     "elapsed": 30401,
     "status": "ok",
     "timestamp": 1566378185909,
     "user": {
      "displayName": "Rohit Lokwani",
      "photoUrl": "https://lh3.googleusercontent.com/a-/AAuE7mAL3EwFAVjTZK-H4qLCb2CDpH3othjZNTAEAuLEnPk=s64",
      "userId": "14529381634196967404"
     },
     "user_tz": -330
    },
    "id": "2BvhD9g6dcj7",
    "outputId": "a0b47909-875b-49b0-fbed-b85fdf5bba08"
   },
   "outputs": [],
   "source": [
    "from google.colab import drive\n",
    "drive.mount('/content/gdrive')"
   ]
  },
  {
   "cell_type": "code",
   "execution_count": null,
   "metadata": {
    "colab": {
     "base_uri": "https://localhost:8080/",
     "height": 51
    },
    "colab_type": "code",
    "executionInfo": {
     "elapsed": 7814,
     "status": "ok",
     "timestamp": 1566378189517,
     "user": {
      "displayName": "Rohit Lokwani",
      "photoUrl": "https://lh3.googleusercontent.com/a-/AAuE7mAL3EwFAVjTZK-H4qLCb2CDpH3othjZNTAEAuLEnPk=s64",
      "userId": "14529381634196967404"
     },
     "user_tz": -330
    },
    "id": "28gReVi-dfu4",
    "outputId": "81cc1316-3d10-44e9-e844-78c1832c29f4"
   },
   "outputs": [],
   "source": [
    "!ls \"/content/gdrive/My Drive/Colab Data/\""
   ]
  },
  {
   "cell_type": "code",
   "execution_count": null,
   "metadata": {
    "colab": {},
    "colab_type": "code",
    "id": "vKVQVZzjdiHT"
   },
   "outputs": [],
   "source": [
    "X_train_initial=np.load('/content/gdrive/My Drive/Colab Data/x_train_final(1).npy', mmap_mode='r+')\n",
    "#Y_train_initial=np.load('/content/gdrive/My Drive/Colab Data/y_train_int8_1channel_segmentation.npy', mmap_mode='r+')\n",
    "#X_test_inital=np.load('/content/gdrive/My Drive/Colab Data/x_val_final.npy', mmap_mode='r+')\n",
    "#Y_test_initial=np.load('/content/gdrive/My Drive/Colab Data/y_val_int8_1channel_segmentation.npy', mmap_mode='r+')"
   ]
  },
  {
   "cell_type": "code",
   "execution_count": null,
   "metadata": {
    "colab": {
     "base_uri": "https://localhost:8080/",
     "height": 1000
    },
    "colab_type": "code",
    "executionInfo": {
     "elapsed": 38389,
     "status": "ok",
     "timestamp": 1566378248071,
     "user": {
      "displayName": "Rohit Lokwani",
      "photoUrl": "https://lh3.googleusercontent.com/a-/AAuE7mAL3EwFAVjTZK-H4qLCb2CDpH3othjZNTAEAuLEnPk=s64",
      "userId": "14529381634196967404"
     },
     "user_tz": -330
    },
    "id": "c2uyrNThY4uQ",
    "outputId": "fd939bd2-3bcb-4472-a539-cf5c37c4cdb9"
   },
   "outputs": [],
   "source": [
    "X_train=[]\n",
    "for index, image in enumerate(X_train_initial):\n",
    "  X_train.append(cv2.resize(image, (768,768)))\n",
    "  print (index)"
   ]
  },
  {
   "cell_type": "code",
   "execution_count": null,
   "metadata": {
    "colab": {},
    "colab_type": "code",
    "id": "ztKsfMgOa2dR"
   },
   "outputs": [],
   "source": [
    "del X_train_initial"
   ]
  },
  {
   "cell_type": "code",
   "execution_count": null,
   "metadata": {
    "colab": {},
    "colab_type": "code",
    "id": "ptILfC1iZwBa"
   },
   "outputs": [],
   "source": [
    "X_train=np.array(X_train)"
   ]
  },
  {
   "cell_type": "code",
   "execution_count": null,
   "metadata": {
    "colab": {},
    "colab_type": "code",
    "id": "4k1ldyjOaID-"
   },
   "outputs": [],
   "source": [
    "np.save()"
   ]
  },
  {
   "cell_type": "code",
   "execution_count": null,
   "metadata": {
    "cellView": "both",
    "colab": {},
    "colab_type": "code",
    "id": "yxxO07ArrS0y"
   },
   "outputs": [],
   "source": [
    "#@title reshape arrays\n",
    "Y_train=np.reshape(Y_train,(1905,768,768,1))\n",
    "Y_test=np.reshape(Y_test, (474,768,768,1))"
   ]
  },
  {
   "cell_type": "code",
   "execution_count": null,
   "metadata": {
    "cellView": "both",
    "colab": {},
    "colab_type": "code",
    "id": "glgMu1M8E_EZ"
   },
   "outputs": [],
   "source": [
    "#@title test array\n",
    "X_test=np.load('/content/gdrive/My Drive/Colab Data/X_test.npy', mmap_mode='r+')"
   ]
  },
  {
   "cell_type": "code",
   "execution_count": null,
   "metadata": {
    "cellView": "both",
    "colab": {},
    "colab_type": "code",
    "id": "8UiR4HjKGi81"
   },
   "outputs": [],
   "source": [
    "#@title Train arrays\n",
    "X_train=[]\n",
    "Y_train=[]\n",
    "for index,image in enumerate(Y_train_initial):\n",
    "  if np.max(image)==0:\n",
    "    print (\"Healthy\")\n",
    "  else:\n",
    "    b=cv2.resize(X_train_initial[index], (768,768))\n",
    "    X_train.append(b)\n",
    "    a=cv2.resize(Y_train_initial[index], (768,768))\n",
    "    Y_train.append(a)\n",
    "  print (index)\n",
    "\n",
    "del X_train_initial\n",
    "del Y_train_initial"
   ]
  },
  {
   "cell_type": "code",
   "execution_count": null,
   "metadata": {
    "cellView": "both",
    "colab": {},
    "colab_type": "code",
    "id": "Sap0b4kqn0E3"
   },
   "outputs": [],
   "source": [
    "#@title Save numpy\n",
    "np.save('/content/gdrive/My Drive/Colab Data/X_test_pneumo_768.npy', X_test)\n",
    "np.save('/content/gdrive/My Drive/Colab Data/Y_test_pneumo_768.npy', Y_test)"
   ]
  },
  {
   "cell_type": "code",
   "execution_count": null,
   "metadata": {
    "cellView": "both",
    "colab": {},
    "colab_type": "code",
    "id": "vsmycEm4Go2f"
   },
   "outputs": [],
   "source": [
    "#@title Test array\n",
    "X_test=[]\n",
    "Y_test=[]\n",
    "for index,image in enumerate(Y_test_initial):\n",
    "  if np.max(image)==0:\n",
    "    print (\"Healthy\")\n",
    "  else:\n",
    "    b=cv2.resize(X_test_initial[index], (768,768))\n",
    "    X_test.append(b)\n",
    "    a=cv2.resize(Y_test_initial[index], (768,768))\n",
    "    Y_test.append(a)\n",
    "  print (index)\n",
    "\n",
    "del X_test_initial\n",
    "del Y_test_initial"
   ]
  },
  {
   "cell_type": "code",
   "execution_count": null,
   "metadata": {
    "cellView": "both",
    "colab": {},
    "colab_type": "code",
    "id": "Ft7c8b1YK6yo"
   },
   "outputs": [],
   "source": [
    "#@title Default title text\n",
    "X_train=np.array(X_train)\n",
    "X_test=np.array(X_test)\n",
    "Y_train=np.array(Y_train)\n",
    "Y_test=np.array(Y_test)"
   ]
  },
  {
   "cell_type": "code",
   "execution_count": null,
   "metadata": {
    "cellView": "both",
    "colab": {},
    "colab_type": "code",
    "id": "BsZy5UMATcYq"
   },
   "outputs": [],
   "source": [
    "#@title Division by 255\n",
    "Y_test=Y_test/255\n",
    "Y_train=Y_train/255"
   ]
  },
  {
   "cell_type": "code",
   "execution_count": null,
   "metadata": {
    "cellView": "both",
    "colab": {},
    "colab_type": "code",
    "id": "Kh9O7TWDvxW_"
   },
   "outputs": [],
   "source": [
    "#@title Save arrays\n",
    "np.save('/content/gdrive/My Drive/Colab Data/Y_train_pneumo_768.npy', Y_train)\n",
    "np.save('/content/gdrive/My Drive/Colab Data/Y_test_pneumo_768.npy', Y_test)"
   ]
  },
  {
   "cell_type": "code",
   "execution_count": null,
   "metadata": {
    "cellView": "both",
    "colab": {},
    "colab_type": "code",
    "id": "S5_coQ7udDia"
   },
   "outputs": [],
   "source": [
    "#@title Segmentation model\n",
    "def dice_coef(y_true, y_pred):\n",
    "    y_true_f = keras.flatten(y_true)\n",
    "    y_pred_f = keras.flatten(y_pred)\n",
    "    intersection = keras.sum(y_true_f * y_pred_f)\n",
    "    return (2. * intersection + 1) / (keras.sum(y_true_f) + keras.sum(y_pred_f) + 1)\n",
    "\n",
    "def dice_coef_loss(y_true, y_pred):\n",
    "    return 1-dice_coef(y_true, y_pred)\n",
    "\n",
    "segmentation_model = load_model('/content/gdrive/My Drive/Colab Data/Weights/unet_lung_seg.hdf5', \\\n",
    "                                custom_objects={'dice_coef_loss': dice_coef_loss, \\\n",
    "                                                'dice_coef': dice_coef})\n",
    "\n",
    "segmentation_model.summary()"
   ]
  },
  {
   "cell_type": "markdown",
   "metadata": {
    "colab_type": "text",
    "id": "xrJZy_iwgrdH"
   },
   "source": [
    "# Train the unet with segmentation"
   ]
  },
  {
   "cell_type": "code",
   "execution_count": null,
   "metadata": {
    "colab": {},
    "colab_type": "code",
    "id": "w3EDKZk8jQKu"
   },
   "outputs": [],
   "source": [
    "class dice_call(Callback):\n",
    "    def __init__(self,validation_data):\n",
    "        self.x_val = validation_data[0]\n",
    "        self.y_val = validation_data[1]\n",
    "\n",
    "    def on_epoch_end(self, epoch, logs={}):\n",
    "\n",
    "        if(epoch%1==0):\n",
    "            print(\"Calc DICE\")\n",
    "            y_pred_val = np.around(self.model.predict(self.x_val,verbose=1))\n",
    "            try:\n",
    "                dice_val = dice(self.y_val, y_pred_val)\n",
    "            except:\n",
    "                pass\n",
    "            print(\"DICE VAL {0}\".format(dice_val))\n",
    "\n",
    "        return"
   ]
  },
  {
   "cell_type": "code",
   "execution_count": null,
   "metadata": {
    "colab": {},
    "colab_type": "code",
    "id": "-8-2cbvrgYDd"
   },
   "outputs": [],
   "source": [
    "dice_call1 = dice_call((X_test,Y_test))"
   ]
  },
  {
   "cell_type": "code",
   "execution_count": null,
   "metadata": {
    "colab": {},
    "colab_type": "code",
    "id": "hEdac78nLXd-"
   },
   "outputs": [],
   "source": [
    "def dice(true, preds):  \n",
    "    scores  = []\n",
    "    for i in range(len(true)):\n",
    "        im1 = true[i]\n",
    "        im2 = preds[i]\n",
    "        intersection = np.logical_and(im1, im2)\n",
    "        score = 2. * intersection.sum() / (im1.sum() + im2.sum())\n",
    "        scores.append(score)\n",
    "    return np.array(scores).mean()#, scores\n",
    "\n",
    "def dice_score(y_true, y_pred):\n",
    "    y_true_f = K.flatten(y_true)\n",
    "    y_pred_f = K.flatten(y_pred)\n",
    "    intersection = K.sum(y_true_f * y_pred_f)\n",
    "    return (2. * intersection + K.epsilon()) / (K.sum(y_true_f) + K.sum(y_pred_f)+K.epsilon())\n",
    "\n",
    "def dice_loss(y_true, y_pred):\n",
    "    return 1 - dice_score(y_true, y_pred)"
   ]
  },
  {
   "cell_type": "code",
   "execution_count": null,
   "metadata": {
    "colab": {},
    "colab_type": "code",
    "id": "EwZTV5RqLJZg"
   },
   "outputs": [],
   "source": [
    "smooth = 1.0\n",
    "def dice_coef(y_true, y_pred):\n",
    "    y_true_f = K.flatten(y_true)\n",
    "    y_pred_f1 = K.flatten(y_pred)\n",
    "    intersection = K.sum(y_true_f * y_pred_f1)\n",
    "    return (2. * intersection + smooth) / (K.sum(y_true_f) + K.sum(y_pred_f1) + smooth)"
   ]
  },
  {
   "cell_type": "code",
   "execution_count": null,
   "metadata": {
    "cellView": "form",
    "colab": {},
    "colab_type": "code",
    "id": "c8BqO04mKiqy"
   },
   "outputs": [],
   "source": [
    "#@title Old U_net\n",
    "def u_net(input_shape, dropout_rate, l2_lambda):\n",
    " \n",
    "    # Encoder\n",
    "    input = Input(shape = input_shape, name = \"input\")\n",
    "    conv1_1 = Conv2D(32, (3, 3), padding = \"same\", activation='relu', kernel_regularizer=regularizers.l2(l2_lambda), name = \"conv1_1\")(input)\n",
    "    conv1_1 = bn(name = \"conv1_1_bn\")(conv1_1)\n",
    "    conv1_2 = Conv2D(32, (3, 3), padding = \"same\", activation='relu', kernel_regularizer=regularizers.l2(l2_lambda), name = \"conv1_2\")(conv1_1)\n",
    "    conv1_2 = bn(name = \"conv1_2_bn\")(conv1_2)\n",
    "    pool1 = MaxPooling2D(name = \"pool1\")(conv1_2)\n",
    "    drop1 = Dropout(dropout_rate)(pool1)\n",
    "\n",
    "    conv2_1 = Conv2D(64, (3, 3), padding = \"same\", activation='relu', kernel_regularizer=regularizers.l2(l2_lambda), name = \"conv2_1\")(pool1)\n",
    "    conv2_1 = bn(name = \"conv2_1_bn\")(conv2_1)\n",
    "    conv2_2 = Conv2D(64, (3, 3), padding = \"same\", activation='relu', kernel_regularizer=regularizers.l2(l2_lambda), name = \"conv2_2\")(conv2_1)\n",
    "    conv2_2 = bn(name = \"conv2_2_bn\")(conv2_2)\n",
    "    pool2 = MaxPooling2D(name = \"pool2\")(conv2_2)\n",
    "    drop2 = Dropout(dropout_rate)(pool2)\n",
    "\n",
    "    conv3_1 = Conv2D(128, (3, 3), padding = \"same\", activation='relu', kernel_regularizer=regularizers.l2(l2_lambda), name = \"conv3_1\")(pool2)\n",
    "    conv3_1 = bn(name = \"conv3_1_bn\")(conv3_1)\n",
    "    conv3_2 = Conv2D(128, (3, 3), padding = \"same\", activation='relu', kernel_regularizer=regularizers.l2(l2_lambda), name = \"conv3_2\")(conv3_1)\n",
    "    conv3_2 = bn(name = \"conv3_2_bn\")(conv3_2)\n",
    "    pool3 = MaxPooling2D(name = \"pool3\")(conv3_2)\n",
    "    drop3 = Dropout(dropout_rate)(pool3)  \n",
    "\n",
    "    conv4_1 = Conv2D(256, (3, 3), padding = \"same\", activation='relu', kernel_regularizer=regularizers.l2(l2_lambda), name = \"conv4_1\")(pool3)\n",
    "    conv4_1 = bn(name = \"conv4_1_bn\")(conv4_1)\n",
    "    conv4_2 = Conv2D(256, (3, 3), padding = \"same\", activation='relu', kernel_regularizer=regularizers.l2(l2_lambda), name = \"conv4_2\")(conv4_1)\n",
    "    conv4_2 = bn(name = \"conv4_2_bn\")(conv4_2)\n",
    "    pool4 = MaxPooling2D(name = \"pool4\")(conv4_2)\n",
    "    drop4 = Dropout(dropout_rate)(pool4)  \n",
    "\n",
    "    conv5_1 = Conv2D(512, (3, 3), padding = \"same\", activation='relu', kernel_regularizer=regularizers.l2(l2_lambda), name = \"conv5_1\")(pool4)\n",
    "    conv5_1 = bn(name = \"conv5_1_bn\")(conv5_1)\n",
    "    conv5_2 = Conv2D(512, (3, 3), padding = \"same\", activation='relu', kernel_regularizer=regularizers.l2(l2_lambda), name = \"conv5_2\")(conv5_1)\n",
    "    conv5_2 = bn(name = \"conv5_2_bn\")(conv5_2)\n",
    "\n",
    "    # Decoder\n",
    "    upconv6 = Conv2DTranspose(256,(2, 2), strides=(2, 2), padding='same')(conv5_2)\n",
    "    upconv6 = Dropout(dropout_rate)(upconv6)\n",
    "    concat6 = concatenate([conv4_2, upconv6], name = \"concat6\")\n",
    "    conv6_1 = Conv2D(256, (3, 3), padding = \"same\", kernel_regularizer=regularizers.l2(l2_lambda), name = \"conv6_1\")(concat6)\n",
    "    conv6_1 = bn(name = \"conv6_1_bn\")(conv6_1)\n",
    "    conv6_2 = Conv2D(256, (3, 3), padding = \"same\", kernel_regularizer=regularizers.l2(l2_lambda), name = \"conv6_2\")(conv6_1)\n",
    "    conv6_2 = bn(name = \"conv6_2_bn\")(conv6_2)\n",
    "\n",
    "    upconv7 = Conv2DTranspose(128,(2, 2), strides=(2, 2), padding='same')(conv6_2)\n",
    "    upconv7 = Dropout(dropout_rate)(upconv7)\n",
    "    concat7 = concatenate([conv3_2, upconv7], name = \"concat7\")\n",
    "    conv7_1 = Conv2D(128, (3, 3), padding = \"same\", kernel_regularizer=regularizers.l2(l2_lambda), name = \"conv7_1\")(concat7)\n",
    "    conv7_1 = bn(name = \"conv7_1_bn\")(conv7_1)\n",
    "    conv7_2 = Conv2D(128, (3, 3), padding = \"same\", kernel_regularizer=regularizers.l2(l2_lambda), name = \"conv7_2\")(conv7_1)\n",
    "    conv7_2 = bn(name = \"conv7_2_bn\")(conv7_2)\n",
    "\n",
    "    upconv8 = Conv2DTranspose(64,(2, 2), strides=(2, 2), padding='same')(conv7_2)\n",
    "    upconv8 = Dropout(dropout_rate)(upconv8)\n",
    "    concat8 = concatenate([conv2_2, upconv8], name = \"concat8\")\n",
    "    conv8_1 = Conv2D(64, (3, 3), padding = \"same\", kernel_regularizer=regularizers.l2(l2_lambda), name = \"conv8_1\")(concat8)\n",
    "    conv8_1 = bn(name = \"conv8_1_bn\")(conv8_1)\n",
    "    conv8_2 = Conv2D(64, (3, 3), padding = \"same\", kernel_regularizer=regularizers.l2(l2_lambda), name = \"conv8_2\")(conv8_1)\n",
    "    conv8_2 = bn(name = \"conv8_2_bn\")(conv8_2)\n",
    "\n",
    "    upconv9 = Conv2DTranspose(32,(2, 2), strides=(2, 2), padding='same')(conv8_2)\n",
    "    upconv9 = Dropout(dropout_rate)(upconv9)\n",
    "    concat9 = concatenate([conv1_2, upconv9], name = \"concat9\")\n",
    "    conv9_1 = Conv2D(32, (3, 3), padding = \"same\", kernel_regularizer=regularizers.l2(l2_lambda), name = \"conv9_1\")(concat9)\n",
    "    conv9_1 = bn(name = \"conv9_1_bn\")(conv9_1)\n",
    "    conv9_2 = Conv2D(32, (3, 3), padding = \"same\", kernel_regularizer=regularizers.l2(l2_lambda), name = \"conv9_2\")(conv9_1)\n",
    "    conv9_2 = bn(name = \"conv9_2_bn\")(conv9_2)\n",
    "    dropout = Dropout(dropout_rate)(conv9_2)\n",
    "   \n",
    "    up6 = UpSampling2D(size=(8,8))(concat6)\n",
    "    up7 = UpSampling2D(size=(4,4))(concat7)\n",
    "    up8 = UpSampling2D(size=(2,2))(concat8)\n",
    "    concate1 = concatenate([up6,up7,up8,dropout])\n",
    "\n",
    "    conv10 = Conv2D(1, (1, 1), padding = \"same\", activation = 'sigmoid', name = \"conv10\")(concate1)\n",
    "\n",
    "\n",
    "    model = Model(input, conv10)\n",
    "\n",
    "    return model"
   ]
  },
  {
   "cell_type": "code",
   "execution_count": null,
   "metadata": {
    "colab": {},
    "colab_type": "code",
    "id": "IKj5mW1NtJOK"
   },
   "outputs": [],
   "source": [
    "def convolution_block(x, filters, size, strides=(1,1), padding='same', activation=True):\n",
    "    x = Conv2D(filters, size, strides=strides, padding=padding)(x)\n",
    "    x = BatchNormalization()(x)\n",
    "    if activation == True:\n",
    "        x = LeakyReLU(alpha=0.1)(x)\n",
    "    return x\n",
    "\n",
    "def residual_block(blockInput, num_filters=16):\n",
    "    x = LeakyReLU(alpha=0.1)(blockInput)\n",
    "    x = BatchNormalization()(x)\n",
    "    blockInput = BatchNormalization()(blockInput)\n",
    "    x = convolution_block(x, num_filters, (3,3) )\n",
    "    x = convolution_block(x, num_filters, (3,3), activation=False)\n",
    "    x = Add()([x, blockInput])\n",
    "    return x\n",
    "\n",
    "\n",
    "\n",
    "def UXception(input_shape=(None, None, 3),dropout_rate=0.5):\n",
    "\n",
    "    backbone = Xception(input_shape=input_shape,weights='imagenet',include_top=False)\n",
    "    input = backbone.input\n",
    "    start_neurons = 16\n",
    "\n",
    "    conv4 = backbone.layers[121].output\n",
    "    conv4 = LeakyReLU(alpha=0.1)(conv4)\n",
    "    pool4 = MaxPooling2D((2, 2))(conv4)\n",
    "    pool4 = Dropout(dropout_rate)(pool4)\n",
    "    \n",
    "     # Middle\n",
    "    convm = Conv2D(start_neurons * 32, (3, 3), activation=None, padding=\"same\")(pool4)\n",
    "    convm = residual_block(convm,start_neurons * 32)\n",
    "    convm = residual_block(convm,start_neurons * 32)\n",
    "    convm = LeakyReLU(alpha=0.1)(convm)\n",
    "    \n",
    "    deconv4 = Conv2DTranspose(start_neurons * 16, (3, 3), strides=(2, 2), padding=\"same\")(convm)\n",
    "    uconv4 = concatenate([deconv4, conv4])\n",
    "    uconv4 = Dropout(dropout_rate)(uconv4)\n",
    "    \n",
    "    uconv4 = Conv2D(start_neurons * 16, (3, 3), activation=None, padding=\"same\")(uconv4)\n",
    "    uconv4 = residual_block(uconv4,start_neurons * 16)\n",
    "    uconv4 = residual_block(uconv4,start_neurons * 16)\n",
    "    uconv4 = LeakyReLU(alpha=0.1)(uconv4)\n",
    "    \n",
    "    deconv3 = Conv2DTranspose(start_neurons * 8, (3, 3), strides=(2, 2), padding=\"same\")(uconv4)\n",
    "    conv3 = backbone.layers[31].output\n",
    "    uconv3 = concatenate([deconv3, conv3])    \n",
    "    uconv3 = Dropout(dropout_rate)(uconv3)\n",
    "    \n",
    "    uconv3 = Conv2D(start_neurons * 8, (3, 3), activation=None, padding=\"same\")(uconv3)\n",
    "    uconv3 = residual_block(uconv3,start_neurons * 8)\n",
    "    uconv3 = residual_block(uconv3,start_neurons * 8)\n",
    "    uconv3 = LeakyReLU(alpha=0.1)(uconv3)\n",
    "\n",
    "    deconv2 = Conv2DTranspose(start_neurons * 4, (3, 3), strides=(2, 2), padding=\"same\")(uconv3)\n",
    "    conv2 = backbone.layers[21].output\n",
    "    conv2 = ZeroPadding2D(((1,0),(1,0)))(conv2)\n",
    "    uconv2 = concatenate([deconv2, conv2])\n",
    "        \n",
    "    uconv2 = Dropout(0.1)(uconv2)\n",
    "    uconv2 = Conv2D(start_neurons * 4, (3, 3), activation=None, padding=\"same\")(uconv2)\n",
    "    uconv2 = residual_block(uconv2,start_neurons * 4)\n",
    "    uconv2 = residual_block(uconv2,start_neurons * 4)\n",
    "    uconv2 = LeakyReLU(alpha=0.1)(uconv2)\n",
    "    \n",
    "    deconv1 = Conv2DTranspose(start_neurons * 2, (3, 3), strides=(2, 2), padding=\"same\")(uconv2)\n",
    "    conv1 = backbone.layers[11].output\n",
    "    conv1 = ZeroPadding2D(((3,0),(3,0)))(conv1)\n",
    "    uconv1 = concatenate([deconv1, conv1])\n",
    "    \n",
    "    uconv1 = Dropout(0.1)(uconv1)\n",
    "    uconv1 = Conv2D(start_neurons * 2, (3, 3), activation=None, padding=\"same\")(uconv1)\n",
    "    uconv1 = residual_block(uconv1,start_neurons * 2)\n",
    "    uconv1 = residual_block(uconv1,start_neurons * 2)\n",
    "    uconv1 = LeakyReLU(alpha=0.1)(uconv1)\n",
    "    \n",
    "    uconv0 = Conv2DTranspose(start_neurons * 1, (3, 3), strides=(2, 2), padding=\"same\")(uconv1)   \n",
    "    uconv0 = Dropout(dropout_rate)(uconv0)\n",
    "    uconv0 = Conv2D(start_neurons * 1, (3, 3), activation=None, padding=\"same\")(uconv0)\n",
    "    uconv0 = residual_block(uconv0,start_neurons * 1)\n",
    "    uconv0 = residual_block(uconv0,start_neurons * 1)\n",
    "    uconv0 = LeakyReLU(alpha=0.1)(uconv0)\n",
    "    \n",
    "    uconv0 = Dropout(dropout_rate/2)(uconv0)\n",
    "    output_layer = Conv2D(1, (1,1), padding=\"same\", activation=\"sigmoid\")(uconv0)    \n",
    "    \n",
    "    model = Model(input, output_layer)\n",
    "    model.name = 'u-xception'\n",
    "\n",
    "    return model"
   ]
  },
  {
   "cell_type": "code",
   "execution_count": null,
   "metadata": {
    "colab": {},
    "colab_type": "code",
    "id": "yksMh8p-ruGL"
   },
   "outputs": [],
   "source": [
    "from keras.callbacks import ReduceLROnPlateau\n",
    "reduce_lr = ReduceLROnPlateau(monitor='val_dice_coef', factor=0.1,\n",
    "                              patience=7, min_lr=0.0000001, verbose=1, mode='max')"
   ]
  },
  {
   "cell_type": "code",
   "execution_count": null,
   "metadata": {
    "colab": {},
    "colab_type": "code",
    "id": "z_4cALwBtYMg"
   },
   "outputs": [],
   "source": [
    "model = UXception(input_shape=(768,768,3))\n",
    "adam = Adam(lr = 0.001)\n",
    "model.compile(optimizer = adam, loss = 'binary_crossentropy', metrics = [dice_coef])"
   ]
  },
  {
   "cell_type": "code",
   "execution_count": null,
   "metadata": {
    "cellView": "form",
    "colab": {},
    "colab_type": "code",
    "id": "2vbg8CZuK5RL"
   },
   "outputs": [],
   "source": [
    "#@title Old Unet\n",
    "input_shape = [512, 512, 1]\n",
    "dropout_rate = 0.3\n",
    "l2_lambda = 0.0002\n",
    "\n",
    "model = u_net(input_shape, dropout_rate, l2_lambda)\n",
    "adam = Adam(lr = 0.0001)\n",
    "model.compile(optimizer = adam, loss = dice_loss, metrics = [dice_coef])"
   ]
  },
  {
   "cell_type": "code",
   "execution_count": null,
   "metadata": {
    "colab": {},
    "colab_type": "code",
    "id": "Eaf6p-mtHekI"
   },
   "outputs": [],
   "source": [
    "checkpoint = ModelCheckpoint('/content/gdrive/My Drive/Colab Data/Weights/PositiveSampleXceptionUnet_768_rohit17.hdf5', monitor='val_dice_coef', verbose=1, save_best_only=True, mode='max')\n",
    "#callbacks = [checkpoint,dice_call1]\n",
    "callbacks = [checkpoint, reduce_lr]"
   ]
  },
  {
   "cell_type": "code",
   "execution_count": null,
   "metadata": {
    "colab": {},
    "colab_type": "code",
    "id": "DET3WrlOVIuJ"
   },
   "outputs": [],
   "source": [
    "model.load_weights('/content/gdrive/My Drive/Colab Data/Weights/PositiveSampleXceptionUnet_768.hdf5')"
   ]
  },
  {
   "cell_type": "code",
   "execution_count": null,
   "metadata": {
    "colab": {
     "base_uri": "https://localhost:8080/",
     "height": 357
    },
    "colab_type": "code",
    "executionInfo": {
     "elapsed": 969847,
     "status": "error",
     "timestamp": 1566372448937,
     "user": {
      "displayName": "Rohit Lokwani",
      "photoUrl": "https://lh3.googleusercontent.com/a-/AAuE7mAL3EwFAVjTZK-H4qLCb2CDpH3othjZNTAEAuLEnPk=s64",
      "userId": "14529381634196967404"
     },
     "user_tz": -330
    },
    "id": "zUHEThSOgaSs",
    "outputId": "df72299a-7ca5-45d0-a6cc-36da0e9eef10"
   },
   "outputs": [],
   "source": [
    "model.fit(X_train, Y_train, validation_data=(X_test, Y_test), epochs=60, batch_size=1, callbacks=callbacks, verbose=1, shuffle=True)"
   ]
  },
  {
   "cell_type": "code",
   "execution_count": null,
   "metadata": {
    "colab": {},
    "colab_type": "code",
    "id": "m18fjWR8gaXF"
   },
   "outputs": [],
   "source": [
    "model.load_weights('/content/gdrive/My Drive/Colab Data/Weights/PositiveSampleXceptionUnet.hdf5')"
   ]
  },
  {
   "cell_type": "code",
   "execution_count": null,
   "metadata": {
    "colab": {},
    "colab_type": "code",
    "id": "MyGvz5Ofgaf0"
   },
   "outputs": [],
   "source": [
    "del X_train\n",
    "del Y_train"
   ]
  },
  {
   "cell_type": "code",
   "execution_count": null,
   "metadata": {
    "colab": {},
    "colab_type": "code",
    "id": "ucMhXpX7dDij"
   },
   "outputs": [],
   "source": [
    "l=np.asarray(X_test, dtype=np.uint8)"
   ]
  },
  {
   "cell_type": "code",
   "execution_count": null,
   "metadata": {
    "colab": {
     "base_uri": "https://localhost:8080/",
     "height": 286
    },
    "colab_type": "code",
    "executionInfo": {
     "elapsed": 1007,
     "status": "ok",
     "timestamp": 1565960024422,
     "user": {
      "displayName": "Rohit Lokwani",
      "photoUrl": "",
      "userId": "05265465397373632813"
     },
     "user_tz": -330
    },
    "id": "bmJrqX5CdDix",
    "outputId": "31137087-e7fd-46b7-dcda-12814e3c638a"
   },
   "outputs": [],
   "source": [
    "plt.imshow(l[2], cmap='gray')"
   ]
  },
  {
   "cell_type": "code",
   "execution_count": null,
   "metadata": {
    "colab": {
     "base_uri": "https://localhost:8080/",
     "height": 34
    },
    "colab_type": "code",
    "executionInfo": {
     "elapsed": 17737,
     "status": "ok",
     "timestamp": 1565961701260,
     "user": {
      "displayName": "Rohit Lokwani",
      "photoUrl": "",
      "userId": "05265465397373632813"
     },
     "user_tz": -330
    },
    "id": "dZam5y0sdDjb",
    "outputId": "b95a5100-3062-4d5f-ad4e-3152dc805c8c"
   },
   "outputs": [],
   "source": [
    "x = []\n",
    "for i in Y_train:\n",
    "    i = cv2.resize(i,(512,512))\n",
    "    i = cv2.cvtColor(i, cv2.COLOR_BGR2GRAY)\n",
    "    #i = np.reshape(i,(512,512,1))\n",
    "    x.append(i)\n",
    "x = np.array(x)\n",
    "x.shape"
   ]
  },
  {
   "cell_type": "code",
   "execution_count": null,
   "metadata": {
    "colab": {
     "base_uri": "https://localhost:8080/",
     "height": 34
    },
    "colab_type": "code",
    "executionInfo": {
     "elapsed": 1157,
     "status": "ok",
     "timestamp": 1565961713895,
     "user": {
      "displayName": "Rohit Lokwani",
      "photoUrl": "",
      "userId": "05265465397373632813"
     },
     "user_tz": -330
    },
    "id": "1eaXiwMfdDjk",
    "outputId": "c6705f21-f758-446e-c04f-ea5b3407fa81"
   },
   "outputs": [],
   "source": [
    "x = np.reshape(x,(8245,512,512,1))\n",
    "x.shape"
   ]
  },
  {
   "cell_type": "code",
   "execution_count": null,
   "metadata": {
    "colab": {},
    "colab_type": "code",
    "id": "CVIbG8QodU3C"
   },
   "outputs": [],
   "source": [
    "np.save('/content/gdrive/My Drive/Colab Data/y_train_int8_1channel_segmentation.npy', x)"
   ]
  },
  {
   "cell_type": "code",
   "execution_count": null,
   "metadata": {
    "colab": {
     "base_uri": "https://localhost:8080/",
     "height": 34
    },
    "colab_type": "code",
    "executionInfo": {
     "elapsed": 53636,
     "status": "ok",
     "timestamp": 1566226410489,
     "user": {
      "displayName": "Rohit Lokwani",
      "photoUrl": "",
      "userId": "05265465397373632813"
     },
     "user_tz": -330
    },
    "id": "YZ4rL2hNdDjq",
    "outputId": "b17963ae-8be9-4ed8-f45c-e8a76f29a263"
   },
   "outputs": [],
   "source": [
    "y_pred=model.predict(X_test, verbose=1)"
   ]
  },
  {
   "cell_type": "code",
   "execution_count": null,
   "metadata": {
    "colab": {
     "base_uri": "https://localhost:8080/",
     "height": 34
    },
    "colab_type": "code",
    "executionInfo": {
     "elapsed": 720,
     "status": "ok",
     "timestamp": 1566226443547,
     "user": {
      "displayName": "Rohit Lokwani",
      "photoUrl": "",
      "userId": "05265465397373632813"
     },
     "user_tz": -330
    },
    "id": "hXZecQl1StTh",
    "outputId": "93d50119-315d-43ff-f1ad-34d1af3d0694"
   },
   "outputs": [],
   "source": [
    "np.max(y_pred[0])"
   ]
  },
  {
   "cell_type": "code",
   "execution_count": null,
   "metadata": {
    "colab": {
     "base_uri": "https://localhost:8080/",
     "height": 286
    },
    "colab_type": "code",
    "executionInfo": {
     "elapsed": 966,
     "status": "ok",
     "timestamp": 1566226425079,
     "user": {
      "displayName": "Rohit Lokwani",
      "photoUrl": "",
      "userId": "05265465397373632813"
     },
     "user_tz": -330
    },
    "id": "OghpfbdsdDjv",
    "outputId": "149336db-9164-4ec6-e82a-edc65555a742"
   },
   "outputs": [],
   "source": [
    "plt.imshow(y_pred[1][:,:,0], cmap='gray')"
   ]
  },
  {
   "cell_type": "code",
   "execution_count": null,
   "metadata": {
    "colab": {
     "base_uri": "https://localhost:8080/",
     "height": 286
    },
    "colab_type": "code",
    "executionInfo": {
     "elapsed": 1337,
     "status": "ok",
     "timestamp": 1566216696864,
     "user": {
      "displayName": "Rohit Lokwani",
      "photoUrl": "",
      "userId": "05265465397373632813"
     },
     "user_tz": -330
    },
    "id": "-0CHcb7-FZJ8",
    "outputId": "69393dc8-a126-4ebe-fad0-da9d624b9c16"
   },
   "outputs": [],
   "source": [
    "plt.imshow(y[2][:,:,0], cmap='gray')"
   ]
  },
  {
   "cell_type": "code",
   "execution_count": null,
   "metadata": {
    "colab": {},
    "colab_type": "code",
    "id": "9HoPXdj-WImK"
   },
   "outputs": [],
   "source": [
    "test_csv=pd.read_csv('/content/gdrive/My Drive/Colab Data/SIIM_test.csv')"
   ]
  },
  {
   "cell_type": "code",
   "execution_count": null,
   "metadata": {
    "colab": {},
    "colab_type": "code",
    "id": "kdQuw6bbWIvI"
   },
   "outputs": [],
   "source": [
    "predictions=np.around(y_pred)"
   ]
  },
  {
   "cell_type": "code",
   "execution_count": null,
   "metadata": {
    "colab": {},
    "colab_type": "code",
    "id": "55yCtutBciBl"
   },
   "outputs": [],
   "source": [
    "predictions=predictions*255"
   ]
  },
  {
   "cell_type": "code",
   "execution_count": null,
   "metadata": {
    "colab": {},
    "colab_type": "code",
    "id": "rKXeqsSHZlms"
   },
   "outputs": [],
   "source": [
    "predictions=predictions.astype('uint8')"
   ]
  },
  {
   "cell_type": "code",
   "execution_count": null,
   "metadata": {
    "colab": {
     "base_uri": "https://localhost:8080/",
     "height": 34
    },
    "colab_type": "code",
    "executionInfo": {
     "elapsed": 1034,
     "status": "ok",
     "timestamp": 1566227718342,
     "user": {
      "displayName": "Rohit Lokwani",
      "photoUrl": "",
      "userId": "05265465397373632813"
     },
     "user_tz": -330
    },
    "id": "jqzK9uxMZt66",
    "outputId": "11db90f2-be79-49ed-8f06-d0eab2e8c7e3"
   },
   "outputs": [],
   "source": [
    "np.max(predictions)"
   ]
  },
  {
   "cell_type": "code",
   "execution_count": null,
   "metadata": {
    "colab": {
     "base_uri": "https://localhost:8080/",
     "height": 286
    },
    "colab_type": "code",
    "executionInfo": {
     "elapsed": 1010,
     "status": "ok",
     "timestamp": 1566227761120,
     "user": {
      "displayName": "Rohit Lokwani",
      "photoUrl": "",
      "userId": "05265465397373632813"
     },
     "user_tz": -330
    },
    "id": "p9jxgb_OcPIi",
    "outputId": "c7cfd994-6510-409f-beda-62b88972ae1f"
   },
   "outputs": [],
   "source": [
    "plt.imshow(predictions[2][:,:,0], cmap='gray')"
   ]
  },
  {
   "cell_type": "code",
   "execution_count": null,
   "metadata": {
    "colab": {},
    "colab_type": "code",
    "id": "-BicxMpsWIs1"
   },
   "outputs": [],
   "source": [
    "def mask2rle(img, width, height):\n",
    "    rle = []\n",
    "    lastColor = 0;\n",
    "    currentPixel = 0;\n",
    "    runStart = -1;\n",
    "    runLength = 0;\n",
    "\n",
    "    for x in range(width):\n",
    "        for y in range(height):\n",
    "            currentColor = img[x][y]\n",
    "            if currentColor != lastColor:\n",
    "                if currentColor == 255:\n",
    "                    runStart = currentPixel;\n",
    "                    runLength = 1;\n",
    "                else:\n",
    "                    rle.append(str(runStart));\n",
    "                    rle.append(str(runLength));\n",
    "                    runStart = -1;\n",
    "                    runLength = 0;\n",
    "                    currentPixel = 0;\n",
    "            elif runStart > -1:\n",
    "                runLength += 1\n",
    "            lastColor = currentColor;\n",
    "            currentPixel+=1;\n",
    "\n",
    "    return \" \".join(rle)"
   ]
  },
  {
   "cell_type": "code",
   "execution_count": null,
   "metadata": {
    "colab": {
     "base_uri": "https://localhost:8080/",
     "height": 34
    },
    "colab_type": "code",
    "executionInfo": {
     "elapsed": 956,
     "status": "ok",
     "timestamp": 1566226519669,
     "user": {
      "displayName": "Rohit Lokwani",
      "photoUrl": "",
      "userId": "05265465397373632813"
     },
     "user_tz": -330
    },
    "id": "XEurP1VMWIqO",
    "outputId": "22d901ab-b75b-4bf1-aedd-d4cd1ddca992"
   },
   "outputs": [],
   "source": [
    "test_csv=test_csv.drop(columns='Unnamed: 0')\n",
    "test_csv.columns"
   ]
  },
  {
   "cell_type": "code",
   "execution_count": null,
   "metadata": {
    "colab": {},
    "colab_type": "code",
    "id": "loKNN28EWIh4"
   },
   "outputs": [],
   "source": [
    "image_encoded={}\n",
    "for index, image in enumerate(predictions):\n",
    "    if np.max(image)==0:\n",
    "        image_encoded[test_csv['0'][index]]=-1\n",
    "        \n",
    "    else:\n",
    "        image=np.reshape(image, (256,256))\n",
    "        image_encoded[test_csv['0'][index]]=mask2rle(image, 256, 256)\n",
    "    print (index)"
   ]
  },
  {
   "cell_type": "code",
   "execution_count": null,
   "metadata": {
    "colab": {},
    "colab_type": "code",
    "id": "02Gp3KroWbN7"
   },
   "outputs": [],
   "source": [
    "df=pd.DataFrame.from_dict(image_encoded, orient='index')"
   ]
  },
  {
   "cell_type": "code",
   "execution_count": null,
   "metadata": {
    "colab": {},
    "colab_type": "code",
    "id": "Li593vccWWu2"
   },
   "outputs": [],
   "source": [
    "df_new = pd.DataFrame()"
   ]
  },
  {
   "cell_type": "code",
   "execution_count": null,
   "metadata": {
    "colab": {
     "base_uri": "https://localhost:8080/",
     "height": 54
    },
    "colab_type": "code",
    "executionInfo": {
     "elapsed": 1666,
     "status": "ok",
     "timestamp": 1566228019621,
     "user": {
      "displayName": "Rohit Lokwani",
      "photoUrl": "",
      "userId": "05265465397373632813"
     },
     "user_tz": -330
    },
    "id": "lhcQ_tnnWW63",
    "outputId": "cd45c9f5-c308-4a43-98aa-4b78d12cdd56"
   },
   "outputs": [],
   "source": [
    "list_of_images=[]\n",
    "for i in test_csv['0']:\n",
    "    a=i.split('/')[-1]\n",
    "    a=a.split('.png')\n",
    "    list_of_images.append(a[0])\n",
    "print (image_encoded)"
   ]
  },
  {
   "cell_type": "code",
   "execution_count": null,
   "metadata": {
    "colab": {},
    "colab_type": "code",
    "id": "O_eZwvKtWljZ"
   },
   "outputs": [],
   "source": [
    "df_new['ImageId']=list_of_images"
   ]
  },
  {
   "cell_type": "code",
   "execution_count": null,
   "metadata": {
    "colab": {},
    "colab_type": "code",
    "id": "_x8WgIEAWW4w"
   },
   "outputs": [],
   "source": [
    "df_new['EncodedPixels']=image_encoded.values()"
   ]
  },
  {
   "cell_type": "code",
   "execution_count": null,
   "metadata": {
    "colab": {},
    "colab_type": "code",
    "id": "YIsQgc0WWW2s"
   },
   "outputs": [],
   "source": [
    "df_new.to_csv('/content/gdrive/My Drive/Colab Data/submission.csv', index=False)"
   ]
  },
  {
   "cell_type": "code",
   "execution_count": null,
   "metadata": {
    "colab": {},
    "colab_type": "code",
    "id": "l71Q9A1YWW0Q"
   },
   "outputs": [],
   "source": [
    "df_new"
   ]
  },
  {
   "cell_type": "code",
   "execution_count": null,
   "metadata": {
    "colab": {
     "base_uri": "https://localhost:8080/",
     "height": 286
    },
    "colab_type": "code",
    "executionInfo": {
     "elapsed": 4015,
     "status": "ok",
     "timestamp": 1566054016523,
     "user": {
      "displayName": "Rohit Lokwani",
      "photoUrl": "",
      "userId": "05265465397373632813"
     },
     "user_tz": -330
    },
    "id": "5exL-dbVodHv",
    "outputId": "ce6ff269-e2a0-43d0-a41a-282d4669ea56"
   },
   "outputs": [],
   "source": [
    "l=np.asarray(X_test, dtype=np.uint8)\n",
    "plt.imshow(l[0][:,:,0], cmap='gray')"
   ]
  },
  {
   "cell_type": "code",
   "execution_count": null,
   "metadata": {
    "colab": {
     "base_uri": "https://localhost:8080/",
     "height": 286
    },
    "colab_type": "code",
    "executionInfo": {
     "elapsed": 3194,
     "status": "ok",
     "timestamp": 1566054025212,
     "user": {
      "displayName": "Rohit Lokwani",
      "photoUrl": "",
      "userId": "05265465397373632813"
     },
     "user_tz": -330
    },
    "id": "9rS79TW4odLp",
    "outputId": "7dd11583-8f38-4f68-db95-985ddbb3421a"
   },
   "outputs": [],
   "source": [
    "l=np.asarray(Y_test, dtype=np.uint8)\n",
    "plt.imshow(l[0][:,:,0], cmap='gray')"
   ]
  },
  {
   "cell_type": "code",
   "execution_count": null,
   "metadata": {
    "colab": {
     "base_uri": "https://localhost:8080/",
     "height": 34
    },
    "colab_type": "code",
    "executionInfo": {
     "elapsed": 1275,
     "status": "ok",
     "timestamp": 1566054092886,
     "user": {
      "displayName": "Rohit Lokwani",
      "photoUrl": "",
      "userId": "05265465397373632813"
     },
     "user_tz": -330
    },
    "id": "-0o-6RYQodOp",
    "outputId": "2d465824-1758-46ef-8a58-e9d0d46cd1b4"
   },
   "outputs": [],
   "source": [
    "np.max(Y_test)"
   ]
  },
  {
   "cell_type": "code",
   "execution_count": null,
   "metadata": {
    "colab": {},
    "colab_type": "code",
    "id": "EvFcM34OodR7"
   },
   "outputs": [],
   "source": []
  },
  {
   "cell_type": "code",
   "execution_count": null,
   "metadata": {
    "colab": {},
    "colab_type": "code",
    "id": "FBzX2195dDj1"
   },
   "outputs": [],
   "source": [
    "final = X_train * y"
   ]
  },
  {
   "cell_type": "code",
   "execution_count": null,
   "metadata": {
    "colab": {
     "base_uri": "https://localhost:8080/",
     "height": 34
    },
    "colab_type": "code",
    "executionInfo": {
     "elapsed": 1815,
     "status": "ok",
     "timestamp": 1565977348215,
     "user": {
      "displayName": "Rohit Lokwani",
      "photoUrl": "",
      "userId": "05265465397373632813"
     },
     "user_tz": -330
    },
    "id": "PwzEKfgBgUY-",
    "outputId": "87991089-fc58-44c4-e466-d72c6c2cbeb3"
   },
   "outputs": [],
   "source": [
    "final.shape"
   ]
  },
  {
   "cell_type": "code",
   "execution_count": null,
   "metadata": {
    "colab": {
     "base_uri": "https://localhost:8080/",
     "height": 286
    },
    "colab_type": "code",
    "executionInfo": {
     "elapsed": 1716,
     "status": "ok",
     "timestamp": 1565977353135,
     "user": {
      "displayName": "Rohit Lokwani",
      "photoUrl": "",
      "userId": "05265465397373632813"
     },
     "user_tz": -330
    },
    "id": "RNUuM0VldDj5",
    "outputId": "e132758a-e0c6-488e-92b7-caee97ec9f43"
   },
   "outputs": [],
   "source": [
    "plt.imshow(final[2][:,:,0],cmap='gray')"
   ]
  },
  {
   "cell_type": "code",
   "execution_count": null,
   "metadata": {
    "colab": {},
    "colab_type": "code",
    "id": "00NAj06PgHmj"
   },
   "outputs": [],
   "source": [
    "np.save('/content/gdrive/My Drive/Colab Data/X_train_segmented_lungs.npy', final)"
   ]
  },
  {
   "cell_type": "code",
   "execution_count": null,
   "metadata": {
    "colab": {},
    "colab_type": "code",
    "id": "RoQqo-dmdDkB"
   },
   "outputs": [],
   "source": [
    "q=np.asarray(Y_test, dtype='uint8')"
   ]
  },
  {
   "cell_type": "code",
   "execution_count": null,
   "metadata": {
    "colab": {
     "base_uri": "https://localhost:8080/",
     "height": 286
    },
    "colab_type": "code",
    "executionInfo": {
     "elapsed": 1112,
     "status": "ok",
     "timestamp": 1565959404179,
     "user": {
      "displayName": "Rohit Lokwani",
      "photoUrl": "",
      "userId": "05265465397373632813"
     },
     "user_tz": -330
    },
    "id": "p7tTIL-8dDkT",
    "outputId": "b4d5d25b-e144-4b51-fef0-dc9f9ba812e4"
   },
   "outputs": [],
   "source": [
    "plt.imshow(q[2])"
   ]
  },
  {
   "cell_type": "code",
   "execution_count": null,
   "metadata": {
    "colab": {},
    "colab_type": "code",
    "id": "U844tg8idDkd"
   },
   "outputs": [],
   "source": [
    "u=np.load('./data/Unet/unet_yval_for_channel3.npy', mmap_mode='r+')"
   ]
  },
  {
   "cell_type": "code",
   "execution_count": null,
   "metadata": {
    "colab": {},
    "colab_type": "code",
    "id": "O9rTIy0SdDkn",
    "outputId": "b58e9aac-c404-43db-e26e-d5f891bc383e"
   },
   "outputs": [],
   "source": [
    "u.shape"
   ]
  },
  {
   "cell_type": "code",
   "execution_count": null,
   "metadata": {
    "colab": {},
    "colab_type": "code",
    "id": "wIwMFKsLdDkx"
   },
   "outputs": [],
   "source": [
    "q=np.asarray(u, dtype='uint8')"
   ]
  },
  {
   "cell_type": "code",
   "execution_count": null,
   "metadata": {
    "colab": {},
    "colab_type": "code",
    "id": "UsaeViixdDk6",
    "outputId": "c562f9e7-6d77-42d8-9047-d4c2af44e1bd"
   },
   "outputs": [],
   "source": [
    "q.dtype"
   ]
  },
  {
   "cell_type": "code",
   "execution_count": null,
   "metadata": {
    "colab": {},
    "colab_type": "code",
    "id": "yLh6oiXBdDlA",
    "outputId": "93997dda-8c56-493a-bbb6-f252dc8d30d1"
   },
   "outputs": [],
   "source": [
    "plt.imshow(q[2][:,:,0],cmap='gray')"
   ]
  },
  {
   "cell_type": "code",
   "execution_count": null,
   "metadata": {
    "colab": {},
    "colab_type": "code",
    "id": "pmMYx-MxdDlD"
   },
   "outputs": [],
   "source": []
  }
 ],
 "metadata": {
  "colab": {
   "collapsed_sections": [],
   "machine_shape": "hm",
   "name": "Unet_rohit17_copy.ipynb",
   "provenance": [
    {
     "file_id": "1nCUP9JY-Zwi6ycuetv7A4iDBNxQq6S3D",
     "timestamp": 1566378718281
    }
   ]
  },
  "kernelspec": {
   "display_name": "Python 3",
   "language": "python",
   "name": "python3"
  },
  "language_info": {
   "codemirror_mode": {
    "name": "ipython",
    "version": 3
   },
   "file_extension": ".py",
   "mimetype": "text/x-python",
   "name": "python",
   "nbconvert_exporter": "python",
   "pygments_lexer": "ipython3",
   "version": "3.8.8"
  }
 },
 "nbformat": 4,
 "nbformat_minor": 1
}
