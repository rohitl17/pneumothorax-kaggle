{
 "cells": [
  {
   "cell_type": "code",
   "execution_count": null,
   "metadata": {
    "colab": {
     "base_uri": "https://localhost:8080/",
     "height": 34
    },
    "executionInfo": {
     "elapsed": 3601,
     "status": "ok",
     "timestamp": 1566528742109,
     "user": {
      "displayName": "Rohit Lokwani",
      "photoUrl": "https://lh3.googleusercontent.com/a-/AAuE7mAL3EwFAVjTZK-H4qLCb2CDpH3othjZNTAEAuLEnPk=s64",
      "userId": "14529381634196967404"
     },
     "user_tz": -330
    },
    "id": "DN9MTaHITznc",
    "outputId": "f264573e-edc5-4e8f-9f1e-51e2b635a1c9"
   },
   "outputs": [],
   "source": [
    "import numpy as np\n",
    "import pandas as pd\n",
    "import pickle\n",
    "import matplotlib.pyplot as plt\n",
    "from keras.layers import Flatten, Dense, GlobalAveragePooling2D,Dropout,Conv2D\n",
    "from keras.applications.densenet import DenseNet169, DenseNet121\n",
    "from keras.applications.resnet50 import ResNet50\n",
    "from keras.models import Model\n",
    "import keras.backend as K\n",
    "from sklearn.metrics import roc_auc_score, cohen_kappa_score\n",
    "import cv2\n",
    "import os\n",
    "import random\n",
    "from sklearn.utils import shuffle\n",
    "from keras.applications.mobilenetv2 import MobileNetV2\n",
    "from keras.callbacks import Callback,ModelCheckpoint\n",
    "from keras.models import *\n",
    "from keras.layers import *\n",
    "from keras.optimizers import *\n",
    "from keras.losses import binary_crossentropy\n",
    "from keras.utils import Sequence\n",
    "from keras import backend as keras\n",
    "from keras.preprocessing.image import ImageDataGenerator\n",
    "from glob import glob\n",
    "from tqdm import tqdm\n",
    "import csv\n",
    "import math\n",
    "from keras.callbacks import LearningRateScheduler\n",
    "%matplotlib inline"
   ]
  },
  {
   "cell_type": "code",
   "execution_count": null,
   "metadata": {
    "id": "0hGVSVROTznp"
   },
   "outputs": [],
   "source": [
    "from keras.callbacks import Callback\n",
    "from sklearn.metrics import confusion_matrix, f1_score, precision_score, recall_score\n",
    "\n",
    "class Metrics(Callback):\n",
    "    def on_train_begin(self, logs={}):\n",
    "     self.val_f1s = []\n",
    "     self.val_recalls = []\n",
    "     self.val_precisions = []\n",
    "\n",
    "    def on_epoch_end(self, epoch, logs={}):\n",
    "     val_predict = (np.asarray(self.model.predict(X_test_feats))).round()\n",
    "     val_targ = Y_test\n",
    "#      print(val_targ.shape)   \n",
    "#      print(val_targ)\n",
    "#      print(val_predict.shape)   \n",
    "#      print(val_predict)   \n",
    "     targ = []\n",
    "     pred = []\n",
    "     for x in val_targ:\n",
    "        targ.append(np.argmax(x))\n",
    "     for x in val_predict:\n",
    "        pred.append(np.argmax(x))\n",
    "#      print(targ)\n",
    "#      print(pred)\n",
    "        \n",
    "     _val_f1 = f1_score(targ, pred)\n",
    "     \n",
    "     _val_recall = recall_score(targ, pred)\n",
    "     _val_precision = precision_score(targ, pred)\n",
    "     self.val_f1s.append(_val_f1)\n",
    "     self.val_recalls.append(_val_recall)\n",
    "     self.val_precisions.append(_val_precision)\n",
    "     print(\"— val_f1: {0} — val_precision: {1} — val_recall {2} \".format(_val_f1, _val_precision, _val_recall))\n",
    "     return\n",
    "\n",
    "metrics = Metrics()"
   ]
  },
  {
   "cell_type": "code",
   "execution_count": null,
   "metadata": {
    "id": "bE_gS6WHTzns"
   },
   "outputs": [],
   "source": [
    "from sklearn.metrics import roc_auc_score\n",
    "from keras.callbacks import Callback\n",
    "class roc_callback(Callback):\n",
    "    def __init__(self,validation_data):\n",
    "#         self.x = training_data[0]\n",
    "#         self.y = training_data[1]\n",
    "        self.x_val = validation_data[0]\n",
    "        self.y_val = validation_data[1]\n",
    "\n",
    "\n",
    "    def on_train_begin(self, logs={}):\n",
    "        return\n",
    "\n",
    "    def on_train_end(self, logs={}):\n",
    "        return\n",
    "\n",
    "    def on_epoch_begin(self, epoch, logs={}):\n",
    "        return\n",
    "\n",
    "    def on_epoch_end(self, epoch, logs={}):\n",
    "#         y_pred = self.model.predict(self.x)\n",
    "#         roc = roc_auc_score(self.y, y_pred)\n",
    "        if(epoch%1==0):\n",
    "            print(\"Calc Roc\")\n",
    "            all_rocs = []\n",
    "            y_pred_val = self.model.predict(X_test,verbose=1)\n",
    "            #print (\"Intitial y_pred:{0}\".format(y_pred_val))\n",
    "            for d in range(2):\n",
    "                try:\n",
    "                    roc_val = roc_auc_score(Y_test[:,d], y_pred_val[:,d])\n",
    "                    all_rocs.append(roc_val)\n",
    "                except:\n",
    "                    pass\n",
    "            all_rocs = np.array(all_rocs)\n",
    "            mean_roc = np.mean(all_rocs)\n",
    "            \n",
    "            Y_test_kappa=[np.argmax(i) for i in Y_test]\n",
    "            y_pred_kappa=[np.argmax(i) for i in y_pred_val]\n",
    "            try:\n",
    "                score = f1_score(Y_test_kappa, np.around(y_pred_kappa))\n",
    "                f1s = score\n",
    "            except:\n",
    "                    print(global_cls[d])\n",
    "            avg_f1 = f1s\n",
    "            \n",
    "            kappa_score = cohen_kappa_score(Y_test_kappa, y_pred_kappa)            \n",
    "            \n",
    "            print(\"ROC VAL {0}\".format(mean_roc))\n",
    "            print(\"F1 {0}\".format(avg_f1))\n",
    "            print(\"KAPPA {0}\".format(kappa_score))\n",
    "        return\n",
    "\n",
    "    def on_batch_begin(self, batch, logs={}):\n",
    "        return\n",
    "\n",
    "    def on_batch_end(self, batch, logs={}):\n",
    "        return"
   ]
  },
  {
   "cell_type": "code",
   "execution_count": null,
   "metadata": {
    "colab": {
     "base_uri": "https://localhost:8080/",
     "height": 122
    },
    "executionInfo": {
     "elapsed": 31165,
     "status": "ok",
     "timestamp": 1566528775082,
     "user": {
      "displayName": "Rohit Lokwani",
      "photoUrl": "https://lh3.googleusercontent.com/a-/AAuE7mAL3EwFAVjTZK-H4qLCb2CDpH3othjZNTAEAuLEnPk=s64",
      "userId": "14529381634196967404"
     },
     "user_tz": -330
    },
    "id": "EV1tTnrAT2YD",
    "outputId": "615b720c-3b5c-4178-c610-ebc80f352b82"
   },
   "outputs": [],
   "source": [
    "from google.colab import drive\n",
    "drive.mount('/content/gdrive')"
   ]
  },
  {
   "cell_type": "code",
   "execution_count": null,
   "metadata": {
    "colab": {
     "base_uri": "https://localhost:8080/",
     "height": 85
    },
    "executionInfo": {
     "elapsed": 33387,
     "status": "ok",
     "timestamp": 1566528777845,
     "user": {
      "displayName": "Rohit Lokwani",
      "photoUrl": "https://lh3.googleusercontent.com/a-/AAuE7mAL3EwFAVjTZK-H4qLCb2CDpH3othjZNTAEAuLEnPk=s64",
      "userId": "14529381634196967404"
     },
     "user_tz": -330
    },
    "id": "nn_9BbbfT9Sz",
    "outputId": "3b4341dc-21b6-4ff1-8e49-1540989650b9"
   },
   "outputs": [],
   "source": [
    "!ls \"/content/gdrive/My Drive/Colab Data/\""
   ]
  },
  {
   "cell_type": "code",
   "execution_count": null,
   "metadata": {
    "id": "wmWIOelCTznx"
   },
   "outputs": [],
   "source": [
    "global_cls = ['Normal', 'Pneumothorax']\n",
    "global_cls = np.array(global_cls)"
   ]
  },
  {
   "cell_type": "code",
   "execution_count": null,
   "metadata": {
    "id": "ykAR74KrTzn0"
   },
   "outputs": [],
   "source": [
    "X_train=np.load('/content/gdrive/My Drive/Colab Data/x_train_4000.npy', mmap_mode='r+')\n",
    "Y_train=np.load('/content/gdrive/My Drive/Colab Data/y_train_final_classification_4000.npy', mmap_mode='r+')\n",
    "X_test=np.load('/content/gdrive/My Drive/Colab Data/x_test_768_2.npy', mmap_mode='r+')\n",
    "Y_test=np.load('/content/gdrive/My Drive/Colab Data/y_val_final_classification.npy', mmap_mode='r+')"
   ]
  },
  {
   "cell_type": "code",
   "execution_count": null,
   "metadata": {
    "colab": {
     "base_uri": "https://localhost:8080/",
     "height": 34
    },
    "executionInfo": {
     "elapsed": 5159,
     "status": "ok",
     "timestamp": 1566528779291,
     "user": {
      "displayName": "Rohit Lokwani",
      "photoUrl": "https://lh3.googleusercontent.com/a-/AAuE7mAL3EwFAVjTZK-H4qLCb2CDpH3othjZNTAEAuLEnPk=s64",
      "userId": "14529381634196967404"
     },
     "user_tz": -330
    },
    "id": "rK77UQM1A2xz",
    "outputId": "dfb09a0d-0fe1-49d7-e849-675c0f4fc172"
   },
   "outputs": [],
   "source": [
    "X_test.shape"
   ]
  },
  {
   "cell_type": "code",
   "execution_count": null,
   "metadata": {
    "cellView": "form",
    "id": "5nRiX-x2_O6V"
   },
   "outputs": [],
   "source": [
    "#@title Data preparation\n",
    "y=[]\n",
    "Y_train=np.load('/content/gdrive/My Drive/Colab Data/y_train_4000.npy', mmap_mode='r+')\n",
    "for index, image in enumerate(Y_train):\n",
    "  if np.max(image)==0:\n",
    "    y.append(0)\n",
    "  else:\n",
    "    y.append(1)\n",
    "  print (index)\n",
    "\n",
    "from keras.utils import to_categorical\n",
    "y=to_categorical(y)\n",
    "y=np.array(y)"
   ]
  },
  {
   "cell_type": "code",
   "execution_count": null,
   "metadata": {
    "id": "RLYfxPIaTzn3"
   },
   "outputs": [],
   "source": [
    "roc_call = roc_callback((X_test,Y_test))"
   ]
  },
  {
   "cell_type": "code",
   "execution_count": null,
   "metadata": {
    "colab": {
     "base_uri": "https://localhost:8080/",
     "height": 360
    },
    "executionInfo": {
     "elapsed": 29155,
     "status": "ok",
     "timestamp": 1566528809803,
     "user": {
      "displayName": "Rohit Lokwani",
      "photoUrl": "https://lh3.googleusercontent.com/a-/AAuE7mAL3EwFAVjTZK-H4qLCb2CDpH3othjZNTAEAuLEnPk=s64",
      "userId": "14529381634196967404"
     },
     "user_tz": -330
    },
    "id": "Wi0bmH4oTzn5",
    "outputId": "405e4c3c-4219-4e7c-f0d9-25453fa011fb"
   },
   "outputs": [],
   "source": [
    "dense_model = DenseNet121(weights='imagenet', include_top=False,input_shape=(768,768,3),pooling='avg')"
   ]
  },
  {
   "cell_type": "code",
   "execution_count": null,
   "metadata": {
    "colab": {
     "base_uri": "https://localhost:8080/",
     "height": 122
    },
    "executionInfo": {
     "elapsed": 28440,
     "status": "ok",
     "timestamp": 1566528809805,
     "user": {
      "displayName": "Rohit Lokwani",
      "photoUrl": "https://lh3.googleusercontent.com/a-/AAuE7mAL3EwFAVjTZK-H4qLCb2CDpH3othjZNTAEAuLEnPk=s64",
      "userId": "14529381634196967404"
     },
     "user_tz": -330
    },
    "id": "wrm3eSq0Tzn8",
    "outputId": "20b4fd78-e3b9-40fc-e76d-6366048fbfdd"
   },
   "outputs": [],
   "source": [
    "preds = Dense(2,activation='softmax')(dense_model.output)\n",
    "model = Model(dense_model.input,preds)\n",
    "model.compile(optimizer='rmsprop',loss='binary_crossentropy',metrics=['accuracy'])"
   ]
  },
  {
   "cell_type": "code",
   "execution_count": null,
   "metadata": {
    "id": "QJUNpPG7TzoB"
   },
   "outputs": [],
   "source": [
    "def step_decay(epoch):\n",
    "    initial_lrate = 0.001\n",
    "    drop = 0.1\n",
    "    epochs_drop = 10.0\n",
    "    lrate = initial_lrate * math.pow(drop, math.floor((1+epoch)/epochs_drop))\n",
    "    return lrate"
   ]
  },
  {
   "cell_type": "code",
   "execution_count": null,
   "metadata": {
    "id": "CiM5bV8mVh6K"
   },
   "outputs": [],
   "source": [
    "from keras.callbacks import ReduceLROnPlateau\n",
    "reduce_lr = ReduceLROnPlateau(monitor='val_acc', factor=0.1,\n",
    "                              patience=4, min_lr=0.0000001, verbose=1)"
   ]
  },
  {
   "cell_type": "code",
   "execution_count": null,
   "metadata": {
    "id": "UYgH326eVa46"
   },
   "outputs": [],
   "source": [
    "class_weights={0:1, 1:4}"
   ]
  },
  {
   "cell_type": "code",
   "execution_count": null,
   "metadata": {
    "id": "mSMGYqp3TzoL"
   },
   "outputs": [],
   "source": [
    "model_checkpoint = ModelCheckpoint(\n",
    "        os.path.join('/content/gdrive/My Drive/Colab Data/Weights/', 'DenseNet121_classifier_lr_768_768_2.hdf5'),\n",
    "        monitor='val_acc', mode='max',save_best_only=True, verbose=1)\n",
    "lrate = LearningRateScheduler(step_decay)\n",
    "callbacks = [model_checkpoint, roc_call, reduce_lr]"
   ]
  },
  {
   "cell_type": "code",
   "execution_count": null,
   "metadata": {
    "id": "EO4KaPKqZG6Q"
   },
   "outputs": [],
   "source": []
  },
  {
   "cell_type": "code",
   "execution_count": null,
   "metadata": {
    "id": "_M1PG1ifTzoP"
   },
   "outputs": [],
   "source": [
    "model.fit(X_train, Y_train, verbose=1, validation_data=(X_test, Y_test),epochs=50, batch_size=2, callbacks=callbacks, shuffle=True)"
   ]
  },
  {
   "cell_type": "code",
   "execution_count": null,
   "metadata": {
    "id": "YTifL6RKTzoY"
   },
   "outputs": [],
   "source": [
    "model.load_weights('/content/gdrive/My Drive/Colab Data/Weights/DenseNet121_classifier_lr_768_768.hdf5')"
   ]
  },
  {
   "cell_type": "code",
   "execution_count": null,
   "metadata": {
    "colab": {
     "base_uri": "https://localhost:8080/",
     "height": 34
    },
    "id": "c4Z7e9rbTzoc",
    "outputId": "abe84464-cac9-4d59-9e83-d31f5dff98f0"
   },
   "outputs": [],
   "source": [
    "y_pred=model.predict(X_test, verbose=1)"
   ]
  },
  {
   "cell_type": "code",
   "execution_count": null,
   "metadata": {
    "id": "AQNtq6FYTzof"
   },
   "outputs": [],
   "source": [
    "Y_test_new=[np.argmax(i) for i in Y_test]\n",
    "y_pred_new=[np.argmax(i) for i in y_pred]"
   ]
  },
  {
   "cell_type": "code",
   "execution_count": null,
   "metadata": {
    "colab": {
     "base_uri": "https://localhost:8080/",
     "height": 170
    },
    "executionInfo": {
     "elapsed": 1042,
     "status": "ok",
     "timestamp": 1565966692450,
     "user": {
      "displayName": "Rohit Lokwani",
      "photoUrl": "https://lh4.googleusercontent.com/-XH9hJ4OHGOk/AAAAAAAAAAI/AAAAAAAAUac/sKGy7VE2szg/s64/photo.jpg",
      "userId": "14529381634196967404"
     },
     "user_tz": -330
    },
    "id": "1HgrBkD8Tzoj",
    "outputId": "660e80e3-aace-4fd3-c237-40a08a50f185"
   },
   "outputs": [],
   "source": [
    "from sklearn.metrics import classification_report\n",
    "\n",
    "Y_test_new=[np.argmax(i) for i in Y_test]\n",
    "y_pred_new=[np.argmax(i) for i in y_pred]\n",
    "    \n",
    "print(classification_report(Y_test_new, y_pred_new, target_names=global_cls))"
   ]
  },
  {
   "cell_type": "code",
   "execution_count": null,
   "metadata": {
    "colab": {
     "base_uri": "https://localhost:8080/",
     "height": 51
    },
    "executionInfo": {
     "elapsed": 952,
     "status": "ok",
     "timestamp": 1565966696915,
     "user": {
      "displayName": "Rohit Lokwani",
      "photoUrl": "https://lh4.googleusercontent.com/-XH9hJ4OHGOk/AAAAAAAAAAI/AAAAAAAAUac/sKGy7VE2szg/s64/photo.jpg",
      "userId": "14529381634196967404"
     },
     "user_tz": -330
    },
    "id": "8aTegJU8Tzor",
    "outputId": "84e8122c-084b-439e-9d6d-6e41d8b9d443"
   },
   "outputs": [],
   "source": [
    "from sklearn.metrics import confusion_matrix\n",
    "confusion_matrix(Y_test_new, y_pred_new)"
   ]
  },
  {
   "cell_type": "code",
   "execution_count": null,
   "metadata": {
    "id": "Fs28jm6HTzou"
   },
   "outputs": [],
   "source": [
    "man_y=[]\n",
    "\n",
    "for i in y_pred:\n",
    "  if i[1]>0.05:\n",
    "    man_y.append(1)\n",
    "  else:\n",
    "    man_y.append(0)"
   ]
  },
  {
   "cell_type": "code",
   "execution_count": null,
   "metadata": {
    "colab": {
     "base_uri": "https://localhost:8080/",
     "height": 51
    },
    "executionInfo": {
     "elapsed": 977,
     "status": "ok",
     "timestamp": 1565966836299,
     "user": {
      "displayName": "Rohit Lokwani",
      "photoUrl": "https://lh4.googleusercontent.com/-XH9hJ4OHGOk/AAAAAAAAAAI/AAAAAAAAUac/sKGy7VE2szg/s64/photo.jpg",
      "userId": "14529381634196967404"
     },
     "user_tz": -330
    },
    "id": "NKRzdWol5PYV",
    "outputId": "99c10996-1767-451f-a796-c5d0cb19d9e3"
   },
   "outputs": [],
   "source": [
    "confusion_matrix(Y_test_new, man_y)"
   ]
  },
  {
   "cell_type": "code",
   "execution_count": null,
   "metadata": {
    "id": "BdZUINZj5URW"
   },
   "outputs": [],
   "source": []
  }
 ],
 "metadata": {
  "accelerator": "GPU",
  "colab": {
   "collapsed_sections": [],
   "machine_shape": "hm",
   "name": "Classification.ipynb",
   "provenance": []
  },
  "kernelspec": {
   "display_name": "Python 3",
   "language": "python",
   "name": "python3"
  },
  "language_info": {
   "codemirror_mode": {
    "name": "ipython",
    "version": 3
   },
   "file_extension": ".py",
   "mimetype": "text/x-python",
   "name": "python",
   "nbconvert_exporter": "python",
   "pygments_lexer": "ipython3",
   "version": "3.8.8"
  }
 },
 "nbformat": 4,
 "nbformat_minor": 1
}
