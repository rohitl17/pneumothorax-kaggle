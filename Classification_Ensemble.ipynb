{
 "cells": [
  {
   "cell_type": "code",
   "execution_count": null,
   "metadata": {
    "id": "DN9MTaHITznc"
   },
   "outputs": [],
   "source": [
    "import numpy as np\n",
    "import pandas as pd\n",
    "import pickle\n",
    "import matplotlib.pyplot as plt\n",
    "from keras.layers import Flatten, Dense, GlobalAveragePooling2D,Dropout,Conv2D\n",
    "from keras.applications.densenet import DenseNet169, DenseNet121\n",
    "from keras.applications.resnet50 import ResNet50\n",
    "from keras.models import Model\n",
    "import keras.backend as K\n",
    "from sklearn.metrics import roc_auc_score, cohen_kappa_score\n",
    "import cv2\n",
    "import os\n",
    "import random\n",
    "from sklearn.utils import shuffle\n",
    "from keras.applications.mobilenetv2 import MobileNetV2\n",
    "from keras.callbacks import Callback,ModelCheckpoint\n",
    "from keras.models import *\n",
    "from keras.layers import *\n",
    "from keras.optimizers import *\n",
    "from keras.losses import binary_crossentropy\n",
    "from keras.utils import Sequence\n",
    "from keras import backend as keras\n",
    "from keras.preprocessing.image import ImageDataGenerator\n",
    "from glob import glob\n",
    "from tqdm import tqdm\n",
    "import csv\n",
    "import math\n",
    "from keras.callbacks import LearningRateScheduler\n",
    "%matplotlib inline"
   ]
  },
  {
   "cell_type": "code",
   "execution_count": null,
   "metadata": {
    "colab": {
     "base_uri": "https://localhost:8080/",
     "height": 34
    },
    "id": "EV1tTnrAT2YD",
    "outputId": "58801ab5-df45-46a0-a429-21535157cbf7"
   },
   "outputs": [],
   "source": [
    "from google.colab import drive\n",
    "drive.mount('/content/gdrive')"
   ]
  },
  {
   "cell_type": "code",
   "execution_count": null,
   "metadata": {
    "colab": {
     "base_uri": "https://localhost:8080/",
     "height": 136
    },
    "id": "nn_9BbbfT9Sz",
    "outputId": "4c4fb62b-abcc-4077-cb43-4265d95063a1"
   },
   "outputs": [],
   "source": [
    "!ls \"/content/gdrive/My Drive/Colab Data/Weights\""
   ]
  },
  {
   "cell_type": "code",
   "execution_count": null,
   "metadata": {
    "id": "wmWIOelCTznx"
   },
   "outputs": [],
   "source": [
    "global_cls = ['Normal', 'Pneumothorax']\n",
    "global_cls = np.array(global_cls)"
   ]
  },
  {
   "cell_type": "code",
   "execution_count": null,
   "metadata": {
    "id": "ykAR74KrTzn0"
   },
   "outputs": [],
   "source": [
    "#X_train=np.load('/content/gdrive/My Drive/Colab Data/x_train_final(1).npy', mmap_mode='r+')\n",
    "#Y_train=np.load('/content/gdrive/My Drive/Colab Data/y_train_final_classification.npy', mmap_mode='r+')\n",
    "X_test=np.load('/content/gdrive/My Drive/Colab Data/X_test.npy', mmap_mode='r+')\n",
    "#Y_test=np.load('/content/gdrive/My Drive/Colab Data/y_val_final_classification.npy', mmap_mode='r+')"
   ]
  },
  {
   "cell_type": "code",
   "execution_count": null,
   "metadata": {
    "id": "Wi0bmH4oTzn5"
   },
   "outputs": [],
   "source": [
    "dense_model = DenseNet121(weights='imagenet', include_top=False,input_shape=(256,256,3),pooling='avg')"
   ]
  },
  {
   "cell_type": "code",
   "execution_count": null,
   "metadata": {
    "id": "wrm3eSq0Tzn8"
   },
   "outputs": [],
   "source": [
    "preds = Dense(2,activation='softmax')(dense_model.output)\n",
    "model = Model(dense_model.input,preds)\n",
    "model.compile(optimizer='rmsprop',loss='binary_crossentropy',metrics=['accuracy'])"
   ]
  },
  {
   "cell_type": "code",
   "execution_count": null,
   "metadata": {
    "id": "ZvPQBdub3RGv"
   },
   "outputs": [],
   "source": [
    "!ls \"/content/gdrive/My Drive/Colab Data/Weights\""
   ]
  },
  {
   "cell_type": "code",
   "execution_count": null,
   "metadata": {
    "id": "YTifL6RKTzoY"
   },
   "outputs": [],
   "source": [
    "model.load_weights('/content/gdrive/My Drive/Colab Data/Weights/DenseNet169_classifier_lr_cw.hdf5')"
   ]
  },
  {
   "cell_type": "code",
   "execution_count": null,
   "metadata": {
    "id": "c4Z7e9rbTzoc"
   },
   "outputs": [],
   "source": [
    "y_pred=model.predict(X_test, verbose=1)"
   ]
  },
  {
   "cell_type": "code",
   "execution_count": null,
   "metadata": {
    "id": "AQNtq6FYTzof"
   },
   "outputs": [],
   "source": [
    "Y_test_new=[np.argmax(i) for i in Y_test]\n",
    "y_pred_new=[np.argmax(i) for i in y_pred]"
   ]
  },
  {
   "cell_type": "code",
   "execution_count": null,
   "metadata": {
    "colab": {
     "base_uri": "https://localhost:8080/",
     "height": 170
    },
    "id": "1HgrBkD8Tzoj",
    "outputId": "b428ccc3-1f41-40a5-dc3a-050fe6199179"
   },
   "outputs": [],
   "source": [
    "from sklearn.metrics import classification_report\n",
    "\n",
    "Y_test_new=[np.argmax(i) for i in Y_test]\n",
    "#y_pred_new=[np.argmax(i) for i in y_pred]\n",
    "    \n",
    "print(classification_report(Y_test_new, y_pred_new, target_names=global_cls))"
   ]
  },
  {
   "cell_type": "code",
   "execution_count": null,
   "metadata": {
    "colab": {
     "base_uri": "https://localhost:8080/",
     "height": 51
    },
    "id": "8aTegJU8Tzor",
    "outputId": "4102ed7b-f41a-4202-9fe8-4652dc1b05cd"
   },
   "outputs": [],
   "source": [
    "from sklearn.metrics import confusion_matrix\n",
    "confusion_matrix(Y_test_new, y_pred_new)"
   ]
  },
  {
   "cell_type": "code",
   "execution_count": null,
   "metadata": {
    "id": "jBh_KFvJUEJX"
   },
   "outputs": [],
   "source": [
    "y_pred=np.array(y_pred)\n",
    "df=pd.DataFrame(y_pred)\n",
    "df.to_csv('/content/gdrive/My Drive/Colab Data/CSVs/testset_model6_predictions.csv', index=False)"
   ]
  },
  {
   "cell_type": "code",
   "execution_count": null,
   "metadata": {
    "id": "mE76gw08VpcN"
   },
   "outputs": [],
   "source": [
    "y_pred_new=[np.argmax(i) for i in y_pred]\n",
    "y_pred_new=np.array(y_pred_new)\n",
    "df=pd.DataFrame(y_pred_new)\n",
    "df.to_csv('/content/gdrive/My Drive/Colab Data/CSVs/testset_model6_classes.csv', index=False)"
   ]
  },
  {
   "cell_type": "code",
   "execution_count": null,
   "metadata": {
    "id": "Fs28jm6HTzou"
   },
   "outputs": [],
   "source": [
    "man_y=[]\n",
    "\n",
    "for i in y_pred:\n",
    "  if i[1]>0.05:\n",
    "    man_y.append(1)\n",
    "  else:\n",
    "    man_y.append(0)"
   ]
  },
  {
   "cell_type": "code",
   "execution_count": null,
   "metadata": {
    "colab": {
     "base_uri": "https://localhost:8080/",
     "height": 51
    },
    "id": "NKRzdWol5PYV",
    "outputId": "99c10996-1767-451f-a796-c5d0cb19d9e3"
   },
   "outputs": [],
   "source": [
    "confusion_matrix(Y_test_new, man_y)"
   ]
  },
  {
   "cell_type": "code",
   "execution_count": null,
   "metadata": {
    "id": "BdZUINZj5URW"
   },
   "outputs": [],
   "source": []
  },
  {
   "cell_type": "code",
   "execution_count": null,
   "metadata": {
    "id": "Y3w8KQLQyBWy"
   },
   "outputs": [],
   "source": []
  },
  {
   "cell_type": "code",
   "execution_count": null,
   "metadata": {
    "colab": {
     "base_uri": "https://localhost:8080/",
     "height": 238
    },
    "id": "K-5DP06_yBZ2",
    "outputId": "3a2f2642-b6b0-4eba-8078-873fe6076ffb"
   },
   "outputs": [],
   "source": [
    "! ls '/content/gdrive/My Drive/Colab Data/CSVs'"
   ]
  },
  {
   "cell_type": "markdown",
   "metadata": {
    "id": "YfTA-vLEyEFt"
   },
   "source": [
    "# ENSEMBLING"
   ]
  },
  {
   "cell_type": "markdown",
   "metadata": {
    "id": "Ok3yLXp-yoLA"
   },
   "source": [
    "## Majority Vote"
   ]
  },
  {
   "cell_type": "code",
   "execution_count": null,
   "metadata": {
    "id": "qbbkVAiQyBh8"
   },
   "outputs": [],
   "source": [
    "model1_preds=list(pd.read_csv('/content/gdrive/My Drive/Colab Data/CSVs/DenseNet121_classifier_classweights_classes.csv')['0'])\n",
    "model2_preds=list(pd.read_csv('/content/gdrive/My Drive/Colab Data/CSVs/DenseNet121_classifier_reducelr_augment_wocw_classes.csv')['0'])\n",
    "model3_preds=list(pd.read_csv('/content/gdrive/My Drive/Colab Data/CSVs/DenseNet121_classifier_reducelr_classweights_2_classes.csv')['0'])\n",
    "model4_preds=list(pd.read_csv('/content/gdrive/My Drive/Colab Data/CSVs/DenseNet121_classifier_reducelr_classweights_augment_classes.csv')['0'])\n",
    "model5_preds=list(pd.read_csv('/content/gdrive/My Drive/Colab Data/CSVs/DenseNet121_classifier_reducelr_classweights_classes.csv')['0'])\n",
    "model6_preds=list(pd.read_csv('/content/gdrive/My Drive/Colab Data/CSVs/DenseNet169_classifier_lr_cw_classes.csv')['0'])"
   ]
  },
  {
   "cell_type": "code",
   "execution_count": null,
   "metadata": {
    "id": "Hhs2kjrDzRDl"
   },
   "outputs": [],
   "source": [
    "y=[]\n",
    "for i in range(0, len(model1_preds)):\n",
    "  count_of_ones=model1_preds[i]+model2_preds[i]+model3_preds[i]+model4_preds[i]+model5_preds[i]+model6_preds[i]\n",
    "  count_of_zeros=6-count_of_ones\n",
    "  if count_of_ones>count_of_zeros:\n",
    "    y.append(1)\n",
    "  else:\n",
    "    y.append(0)"
   ]
  },
  {
   "cell_type": "code",
   "execution_count": null,
   "metadata": {
    "id": "1PN_alPPzUBN"
   },
   "outputs": [],
   "source": [
    "y_pred_new=y"
   ]
  },
  {
   "cell_type": "code",
   "execution_count": null,
   "metadata": {
    "id": "1thyph380Bnt"
   },
   "outputs": [],
   "source": []
  },
  {
   "cell_type": "markdown",
   "metadata": {
    "id": "30Bth3hJX9Xp"
   },
   "source": [
    "## Average Voting\n"
   ]
  },
  {
   "cell_type": "code",
   "execution_count": null,
   "metadata": {
    "id": "9y8iuuM1YA4z"
   },
   "outputs": [],
   "source": [
    "#model1_preds=list(pd.read_csv('/content/gdrive/My Drive/Colab Data/CSVs/DenseNet121_classifier_classweights_predictions.csv')['0'])\n",
    "model2_preds=pd.read_csv('/content/gdrive/My Drive/Colab Data/CSVs/DenseNet121_classifier_reducelr_augment_wocw_predictions.csv')\n",
    "model3_preds=pd.read_csv('/content/gdrive/My Drive/Colab Data/CSVs/DenseNet121_classifier_reducelr_classweights_2_predictions.csv')\n",
    "model4_preds=pd.read_csv('/content/gdrive/My Drive/Colab Data/CSVs/DenseNet121_classifier_reducelr_classweights_augment_predictions.csv')\n",
    "model5_preds=pd.read_csv('/content/gdrive/My Drive/Colab Data/CSVs/DenseNet121_classifier_reducelr_classweights_predictions.csv')\n",
    "model6_preds=pd.read_csv('/content/gdrive/My Drive/Colab Data/CSVs/DenseNet169_classifier_lr_cw_predictions.csv')"
   ]
  },
  {
   "cell_type": "code",
   "execution_count": null,
   "metadata": {
    "id": "enTQ7Qr9ZHO-"
   },
   "outputs": [],
   "source": [
    "model3_preds"
   ]
  },
  {
   "cell_type": "code",
   "execution_count": null,
   "metadata": {
    "id": "Hp0Bs-7nYffq"
   },
   "outputs": [],
   "source": [
    "y=[]\n",
    "for i in range(0, len(model2_preds)):\n",
    "  total_0=model2_preds['0'][i]+model3_preds['0'][i]+model4_preds['0'][i]+model5_preds['0'][i]+model6_preds['0'][i]\n",
    "  total_1=model2_preds['1'][i]+model3_preds['1'][i]+model4_preds['1'][i]+model5_preds['1'][i]+model6_preds['1'][i]\n",
    "  print (total_0, total_1)\n",
    "  if total_1>total_0:\n",
    "    y.append(1)\n",
    "  else:\n",
    "    y.append(0)"
   ]
  },
  {
   "cell_type": "code",
   "execution_count": null,
   "metadata": {
    "id": "-DgetlYFY-lH"
   },
   "outputs": [],
   "source": [
    "y_pred_new=y"
   ]
  },
  {
   "cell_type": "code",
   "execution_count": null,
   "metadata": {
    "id": "KVhMW2MdaTNF"
   },
   "outputs": [],
   "source": []
  }
 ],
 "metadata": {
  "accelerator": "GPU",
  "colab": {
   "collapsed_sections": [],
   "machine_shape": "hm",
   "name": "Classification_inference.ipynb",
   "provenance": []
  },
  "kernelspec": {
   "display_name": "Python 3",
   "language": "python",
   "name": "python3"
  },
  "language_info": {
   "codemirror_mode": {
    "name": "ipython",
    "version": 3
   },
   "file_extension": ".py",
   "mimetype": "text/x-python",
   "name": "python",
   "nbconvert_exporter": "python",
   "pygments_lexer": "ipython3",
   "version": "3.8.8"
  }
 },
 "nbformat": 4,
 "nbformat_minor": 1
}
